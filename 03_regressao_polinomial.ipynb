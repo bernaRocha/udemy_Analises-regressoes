{
 "cells": [
  {
   "cell_type": "markdown",
   "id": "edb07a03",
   "metadata": {},
   "source": [
    "# Regressão polinomial"
   ]
  },
  {
   "cell_type": "code",
   "execution_count": 1,
   "id": "6ff433ac",
   "metadata": {},
   "outputs": [],
   "source": [
    "import pandas as pd\n",
    "import numpy as np"
   ]
  },
  {
   "cell_type": "code",
   "execution_count": 2,
   "id": "a0a5e256",
   "metadata": {},
   "outputs": [],
   "source": [
    "vendas = pd.read_excel('dados/comissao.xlsx')"
   ]
  },
  {
   "cell_type": "markdown",
   "id": "d8bc12c7",
   "metadata": {},
   "source": [
    "### Análise inicial"
   ]
  },
  {
   "cell_type": "code",
   "execution_count": 3,
   "id": "a271f06b",
   "metadata": {},
   "outputs": [
    {
     "data": {
      "text/html": [
       "<div>\n",
       "<style scoped>\n",
       "    .dataframe tbody tr th:only-of-type {\n",
       "        vertical-align: middle;\n",
       "    }\n",
       "\n",
       "    .dataframe tbody tr th {\n",
       "        vertical-align: top;\n",
       "    }\n",
       "\n",
       "    .dataframe thead th {\n",
       "        text-align: right;\n",
       "    }\n",
       "</style>\n",
       "<table border=\"1\" class=\"dataframe\">\n",
       "  <thead>\n",
       "    <tr style=\"text-align: right;\">\n",
       "      <th></th>\n",
       "      <th>quantidade</th>\n",
       "      <th>comissao</th>\n",
       "    </tr>\n",
       "  </thead>\n",
       "  <tbody>\n",
       "    <tr>\n",
       "      <th>0</th>\n",
       "      <td>1</td>\n",
       "      <td>728</td>\n",
       "    </tr>\n",
       "    <tr>\n",
       "      <th>1</th>\n",
       "      <td>2</td>\n",
       "      <td>762</td>\n",
       "    </tr>\n",
       "    <tr>\n",
       "      <th>2</th>\n",
       "      <td>3</td>\n",
       "      <td>802</td>\n",
       "    </tr>\n",
       "    <tr>\n",
       "      <th>3</th>\n",
       "      <td>4</td>\n",
       "      <td>848</td>\n",
       "    </tr>\n",
       "    <tr>\n",
       "      <th>4</th>\n",
       "      <td>5</td>\n",
       "      <td>900</td>\n",
       "    </tr>\n",
       "  </tbody>\n",
       "</table>\n",
       "</div>"
      ],
      "text/plain": [
       "   quantidade  comissao\n",
       "0           1       728\n",
       "1           2       762\n",
       "2           3       802\n",
       "3           4       848\n",
       "4           5       900"
      ]
     },
     "execution_count": 3,
     "metadata": {},
     "output_type": "execute_result"
    }
   ],
   "source": [
    "vendas.head()"
   ]
  },
  {
   "cell_type": "code",
   "execution_count": 4,
   "id": "a2c0fc49",
   "metadata": {},
   "outputs": [
    {
     "data": {
      "text/plain": [
       "(50, 2)"
      ]
     },
     "execution_count": 4,
     "metadata": {},
     "output_type": "execute_result"
    }
   ],
   "source": [
    "vendas.shape"
   ]
  },
  {
   "cell_type": "code",
   "execution_count": 5,
   "id": "d2335bf0",
   "metadata": {},
   "outputs": [
    {
     "data": {
      "text/plain": [
       "quantidade    int64\n",
       "comissao      int64\n",
       "dtype: object"
      ]
     },
     "execution_count": 5,
     "metadata": {},
     "output_type": "execute_result"
    }
   ],
   "source": [
    "vendas.dtypes"
   ]
  },
  {
   "cell_type": "code",
   "execution_count": 6,
   "id": "1c08d942",
   "metadata": {},
   "outputs": [
    {
     "data": {
      "text/plain": [
       "quantidade    0\n",
       "comissao      0\n",
       "dtype: int64"
      ]
     },
     "execution_count": 6,
     "metadata": {},
     "output_type": "execute_result"
    }
   ],
   "source": [
    "vendas.isnull().sum()"
   ]
  },
  {
   "cell_type": "code",
   "execution_count": 7,
   "id": "d55f184a",
   "metadata": {},
   "outputs": [],
   "source": [
    "vendas = vendas.astype({'comissao': float})"
   ]
  },
  {
   "cell_type": "code",
   "execution_count": 8,
   "id": "5675c295",
   "metadata": {},
   "outputs": [
    {
     "data": {
      "text/plain": [
       "quantidade      int64\n",
       "comissao      float64\n",
       "dtype: object"
      ]
     },
     "execution_count": 8,
     "metadata": {},
     "output_type": "execute_result"
    }
   ],
   "source": [
    "vendas.dtypes"
   ]
  },
  {
   "cell_type": "markdown",
   "id": "520db149",
   "metadata": {},
   "source": [
    "## Gráfico para análise inicial"
   ]
  },
  {
   "cell_type": "code",
   "execution_count": 9,
   "id": "162d8568",
   "metadata": {},
   "outputs": [],
   "source": [
    "import matplotlib.pyplot as plt"
   ]
  },
  {
   "cell_type": "code",
   "execution_count": 10,
   "id": "a350bbff",
   "metadata": {},
   "outputs": [
    {
     "data": {
      "image/png": "[encoded data removed]",
      "text/plain": [
       "<Figure size 640x480 with 1 Axes>"
      ]
     },
     "metadata": {},
     "output_type": "display_data"
    }
   ],
   "source": [
    "plt.scatter(vendas.quantidade, vendas.comissao)\n",
    "plt.title('Correlação')\n",
    "plt.xlabel('Quantidade')\n",
    "plt.ylabel('Comissão')\n",
    "plt.grid(True)\n",
    "plt.show()"
   ]
  },
  {
   "cell_type": "markdown",
   "id": "9c68d586",
   "metadata": {},
   "source": [
    "## Normalidade"
   ]
  },
  {
   "cell_type": "code",
   "execution_count": 11,
   "id": "9212b64a",
   "metadata": {},
   "outputs": [],
   "source": [
    "import scipy.stats as stats"
   ]
  },
  {
   "cell_type": "code",
   "execution_count": 12,
   "id": "e9c965f8",
   "metadata": {},
   "outputs": [
    {
     "data": {
      "image/png": "[encoded data removed]",
      "text/plain": [
       "<Figure size 640x480 with 1 Axes>"
      ]
     },
     "metadata": {},
     "output_type": "display_data"
    }
   ],
   "source": [
    "stats.probplot(vendas['comissao'], dist=\"norm\", plot=plt)\n",
    "plt.title('Normal Q-Q plot')\n",
    "plt.show()"
   ]
  },
  {
   "cell_type": "markdown",
   "id": "6d5f99c1",
   "metadata": {},
   "source": [
    "### Teste Shapiro-Wilk \n",
    "Ho = distribuição normal: p > 0.05<br>\n",
    "Ha = distribuição != normal: p <= 0.05"
   ]
  },
  {
   "cell_type": "code",
   "execution_count": 13,
   "id": "fc08c405",
   "metadata": {},
   "outputs": [
    {
     "name": "stdout",
     "output_type": "stream",
     "text": [
      "Estatística do teste: 0.9124540090560913\n",
      "             P-valor: 0.0012719858204945922\n"
     ]
    }
   ],
   "source": [
    "estatistica, p_valor = stats.shapiro(vendas.comissao)\n",
    "print(f'Estatística do teste: {estatistica}')\n",
    "print(f'             P-valor: {p_valor}')\n",
    "# A distribuição não é normal"
   ]
  },
  {
   "cell_type": "markdown",
   "id": "160462ce",
   "metadata": {},
   "source": [
    "### Correlação linear"
   ]
  },
  {
   "cell_type": "markdown",
   "id": "fbd36123",
   "metadata": {},
   "source": [
    "Pearson (distribuição normal) <br>\n",
    "Spearman (distribuição não normal) <br>\n",
    "Kendall (distribuição não normal com quantidade pequena de amostras)"
   ]
  },
  {
   "cell_type": "code",
   "execution_count": 14,
   "id": "b3fa1868",
   "metadata": {},
   "outputs": [
    {
     "name": "stdout",
     "output_type": "stream",
     "text": [
      "Coeficiente de correlação: 0.9999999999999999\n",
      "P-valor: 0.0\n"
     ]
    }
   ],
   "source": [
    "# Spearman\n",
    "coef, p_valor = stats.spearmanr(vendas.quantidade, vendas.comissao)\n",
    "print(f'Coeficiente de correlação: {coef}') # Quase perfeita\n",
    "print(f'P-valor: {p_valor}') # Existe correlação linear"
   ]
  },
  {
   "cell_type": "markdown",
   "id": "21008c84",
   "metadata": {},
   "source": [
    "## Regressão linear "
   ]
  },
  {
   "cell_type": "code",
   "execution_count": 15,
   "id": "a24b2f3c",
   "metadata": {},
   "outputs": [],
   "source": [
    "import statsmodels.formula.api as smf\n",
    "import statsmodels.stats.api as sms"
   ]
  },
  {
   "cell_type": "code",
   "execution_count": 16,
   "id": "bb77c136",
   "metadata": {},
   "outputs": [],
   "source": [
    "# Criação do modelo\n",
    "regressao = smf.ols('comissao ~ quantidade', data=vendas).fit()"
   ]
  },
  {
   "cell_type": "code",
   "execution_count": 17,
   "id": "955fdbad",
   "metadata": {},
   "outputs": [
    {
     "name": "stdout",
     "output_type": "stream",
     "text": [
      "                            OLS Regression Results                            \n",
      "==============================================================================\n",
      "Dep. Variable:               comissao   R-squared:                       0.955\n",
      "Model:                            OLS   Adj. R-squared:                  0.954\n",
      "Method:                 Least Squares   F-statistic:                     1016.\n",
      "Date:                Thu, 09 Feb 2023   Prob (F-statistic):           5.98e-34\n",
      "Time:                        13:02:48   Log-Likelihood:                -387.21\n",
      "No. Observations:                  50   AIC:                             778.4\n",
      "Df Residuals:                      48   BIC:                             782.2\n",
      "Df Model:                           1                                         \n",
      "Covariance Type:            nonrobust                                         \n",
      "==============================================================================\n",
      "                 coef    std err          t      P>|t|      [0.025      0.975]\n",
      "------------------------------------------------------------------------------\n",
      "Intercept   -626.0000    163.662     -3.825      0.000    -955.064    -296.936\n",
      "quantidade   178.0000      5.586     31.867      0.000     166.769     189.231\n",
      "==============================================================================\n",
      "Omnibus:                        6.733   Durbin-Watson:                   0.023\n",
      "Prob(Omnibus):                  0.035   Jarque-Bera (JB):                4.932\n",
      "Skew:                           0.635   Prob(JB):                       0.0849\n",
      "Kurtosis:                       2.133   Cond. No.                         59.5\n",
      "==============================================================================\n",
      "\n",
      "Notes:\n",
      "[1] Standard Errors assume that the covariance matrix of the errors is correctly specified.\n"
     ]
    }
   ],
   "source": [
    "print(regressao.summary())"
   ]
  },
  {
   "cell_type": "markdown",
   "id": "ecfdc78a",
   "metadata": {},
   "source": [
    "Estatística t: <br>\n",
    "H0 = coeficiente igual a 0: p > 0.05 (coeficiente não validado) <br>\n",
    "Ha = coeficiente diferente de zero: p <= 0.05 (coeficiente validado)"
   ]
  },
  {
   "cell_type": "markdown",
   "id": "dc70bc97",
   "metadata": {},
   "source": [
    "<b>Equação: </b> Comissão = -626 + (178 * quantidade) <br>\n",
    "<b>R^2 ajustado</b> = 0.954 <br>\n",
    "R^2 ajustado -> como os dados que montaram o modelo se adequam ao modelo"
   ]
  },
  {
   "cell_type": "markdown",
   "id": "6852118c",
   "metadata": {},
   "source": [
    "A equação não tem sentido"
   ]
  },
  {
   "cell_type": "code",
   "execution_count": 18,
   "id": "6c5c0bcd",
   "metadata": {},
   "outputs": [
    {
     "data": {
      "image/png": "[encoded data removed]",
      "text/plain": [
       "<Figure size 640x480 with 1 Axes>"
      ]
     },
     "metadata": {},
     "output_type": "display_data"
    }
   ],
   "source": [
    "plt.scatter(y=vendas.comissao, x=vendas.quantidade, color='blue', s=50, alpha=0.6)\n",
    "X_plot = np.linspace(0, 70)\n",
    "plt.plot(X_plot, X_plot*regressao.params[1] + regressao.params[0], color='r')\n",
    "plt.title('Reta de regressão')\n",
    "plt.ylabel('Comissão')\n",
    "plt.xlabel('Quantidade')\n",
    "plt.show()"
   ]
  },
  {
   "cell_type": "code",
   "execution_count": 19,
   "id": "9287d5b8",
   "metadata": {},
   "outputs": [
    {
     "data": {
      "text/plain": [
       "Intercept    -626.0\n",
       "quantidade    178.0\n",
       "dtype: float64"
      ]
     },
     "execution_count": 19,
     "metadata": {},
     "output_type": "execute_result"
    }
   ],
   "source": [
    "regressao.params"
   ]
  },
  {
   "cell_type": "code",
   "execution_count": 20,
   "id": "32fd2457",
   "metadata": {},
   "outputs": [
    {
     "data": {
      "text/plain": [
       "0     1176.0\n",
       "1     1032.0\n",
       "2      894.0\n",
       "3      762.0\n",
       "4      636.0\n",
       "5      516.0\n",
       "6      402.0\n",
       "7      294.0\n",
       "8      192.0\n",
       "9       96.0\n",
       "10       6.0\n",
       "11     -78.0\n",
       "12    -156.0\n",
       "13    -228.0\n",
       "14    -294.0\n",
       "15    -354.0\n",
       "16    -408.0\n",
       "17    -456.0\n",
       "18    -498.0\n",
       "19    -534.0\n",
       "20    -564.0\n",
       "21    -588.0\n",
       "22    -606.0\n",
       "23    -618.0\n",
       "24    -624.0\n",
       "25    -624.0\n",
       "26    -618.0\n",
       "27    -606.0\n",
       "28    -588.0\n",
       "29    -564.0\n",
       "30    -534.0\n",
       "31    -498.0\n",
       "32    -456.0\n",
       "33    -408.0\n",
       "34    -354.0\n",
       "35    -294.0\n",
       "36    -228.0\n",
       "37    -156.0\n",
       "38     -78.0\n",
       "39       6.0\n",
       "40      96.0\n",
       "41     192.0\n",
       "42     294.0\n",
       "43     402.0\n",
       "44     516.0\n",
       "45     636.0\n",
       "46     762.0\n",
       "47     894.0\n",
       "48    1032.0\n",
       "49    1176.0\n",
       "dtype: float64"
      ]
     },
     "execution_count": 20,
     "metadata": {},
     "output_type": "execute_result"
    }
   ],
   "source": [
    "regressao.resid"
   ]
  },
  {
   "cell_type": "markdown",
   "id": "c44cff47",
   "metadata": {},
   "source": [
    "## Regressão polinomial com numpy - grau 2"
   ]
  },
  {
   "cell_type": "markdown",
   "id": "88fff6ef",
   "metadata": {},
   "source": [
    "<b> y = b0 + b1*x + b2*x^2"
   ]
  },
  {
   "cell_type": "code",
   "execution_count": 21,
   "id": "3cd529d0",
   "metadata": {},
   "outputs": [],
   "source": [
    "modelo2 = np.poly1d(np.polyfit(vendas.quantidade, vendas.comissao, 2))"
   ]
  },
  {
   "cell_type": "code",
   "execution_count": 22,
   "id": "6d3d6f43",
   "metadata": {},
   "outputs": [
    {
     "data": {
      "text/plain": [
       "array([ 728.,  762.,  802.,  848.,  900.,  958., 1022., 1092., 1168.,\n",
       "       1250., 1338., 1432., 1532., 1638., 1750., 1868., 1992., 2122.,\n",
       "       2258., 2400., 2548., 2702., 2862., 3028., 3200., 3378., 3562.,\n",
       "       3752., 3948., 4150., 4358., 4572., 4792., 5018., 5250., 5488.,\n",
       "       5732., 5982., 6238., 6500., 6768., 7042., 7322., 7608., 7900.,\n",
       "       8198., 8502., 8812., 9128., 9450.])"
      ]
     },
     "execution_count": 22,
     "metadata": {},
     "output_type": "execute_result"
    }
   ],
   "source": [
    "y2 = modelo2(vendas.quantidade)\n",
    "y2"
   ]
  },
  {
   "cell_type": "code",
   "execution_count": 23,
   "id": "1cc3488d",
   "metadata": {},
   "outputs": [
    {
     "data": {
      "text/plain": [
       "array([  3.,  25., 700.])"
      ]
     },
     "execution_count": 23,
     "metadata": {},
     "output_type": "execute_result"
    }
   ],
   "source": [
    "modelo2.coef\n",
    "#array[0] = x^2, array[1] = x, array[2] = intercept"
   ]
  },
  {
   "cell_type": "code",
   "execution_count": 24,
   "id": "9984066e",
   "metadata": {},
   "outputs": [
    {
     "name": "stdout",
     "output_type": "stream",
     "text": [
      "Equação: Comissão = 700.0 + 25.0*quantidade + 3.0*quantidade^2\n"
     ]
    }
   ],
   "source": [
    "print(f'Equação: Comissão = {modelo2.coef[2]:.1f} + {modelo2.coef[1]:.1f}*quantidade + {modelo2.coef[0]:.1f}*quantidade^2')"
   ]
  },
  {
   "cell_type": "code",
   "execution_count": 25,
   "id": "8e899bb3",
   "metadata": {},
   "outputs": [
    {
     "data": {
      "image/png": "[encoded data removed]",
      "text/plain": [
       "<Figure size 640x480 with 1 Axes>"
      ]
     },
     "metadata": {},
     "output_type": "display_data"
    }
   ],
   "source": [
    "plt.scatter(vendas.quantidade, vendas.comissao)\n",
    "plt.plot(vendas.quantidade, y2, color='orange');"
   ]
  },
  {
   "cell_type": "markdown",
   "id": "d1ad20c3",
   "metadata": {},
   "source": [
    "## Regressão polinomial com numpy - grau 3"
   ]
  },
  {
   "cell_type": "markdown",
   "id": "02fe4bf3",
   "metadata": {},
   "source": [
    "<b> y = b0 + b1*x + b2*x^2 + b3*x^3"
   ]
  },
  {
   "cell_type": "code",
   "execution_count": 26,
   "id": "19bc531d",
   "metadata": {},
   "outputs": [],
   "source": [
    "modelo3 = np.poly1d(np.polyfit(vendas.quantidade, vendas.comissao, 3))"
   ]
  },
  {
   "cell_type": "code",
   "execution_count": 27,
   "id": "42f284f9",
   "metadata": {},
   "outputs": [
    {
     "data": {
      "text/plain": [
       "array([ 728.,  762.,  802.,  848.,  900.,  958., 1022., 1092., 1168.,\n",
       "       1250., 1338., 1432., 1532., 1638., 1750., 1868., 1992., 2122.,\n",
       "       2258., 2400., 2548., 2702., 2862., 3028., 3200., 3378., 3562.,\n",
       "       3752., 3948., 4150., 4358., 4572., 4792., 5018., 5250., 5488.,\n",
       "       5732., 5982., 6238., 6500., 6768., 7042., 7322., 7608., 7900.,\n",
       "       8198., 8502., 8812., 9128., 9450.])"
      ]
     },
     "execution_count": 27,
     "metadata": {},
     "output_type": "execute_result"
    }
   ],
   "source": [
    "y3 = modelo3(vendas.quantidade)\n",
    "y3"
   ]
  },
  {
   "cell_type": "code",
   "execution_count": 28,
   "id": "165ecdb4",
   "metadata": {},
   "outputs": [
    {
     "data": {
      "image/png": "[encoded data removed]",
      "text/plain": [
       "<Figure size 640x480 with 1 Axes>"
      ]
     },
     "metadata": {},
     "output_type": "display_data"
    }
   ],
   "source": [
    "plt.scatter(vendas.quantidade, vendas.comissao)\n",
    "plt.plot(vendas.quantidade, y3, color='orange');"
   ]
  },
  {
   "cell_type": "code",
   "execution_count": 29,
   "id": "37b9f973",
   "metadata": {},
   "outputs": [
    {
     "data": {
      "text/plain": [
       "array([3.78115434e-17, 3.00000000e+00, 2.50000000e+01, 7.00000000e+02])"
      ]
     },
     "execution_count": 29,
     "metadata": {},
     "output_type": "execute_result"
    }
   ],
   "source": [
    "modelo3.coef\n",
    "# array[0] x^3, array[1] x^2, array[2] x, array[3] intercept "
   ]
  },
  {
   "cell_type": "code",
   "execution_count": 30,
   "id": "0912f19d",
   "metadata": {},
   "outputs": [
    {
     "name": "stdout",
     "output_type": "stream",
     "text": [
      "Equação: Comissão = 700.0 + (25.0 * quantidade) + (3.0 * quantidade ^ 2) + (0.0 * quantidade ^ 3)\n"
     ]
    }
   ],
   "source": [
    "print(f'Equação: Comissão = {modelo3.coef[3]:.1f} + ({modelo3.coef[2]:.1f} * quantidade) + ({modelo3.coef[1]:.1f} * quantidade ^ 2) + ({modelo3.coef[0]:.1f} * quantidade ^ 3)')"
   ]
  },
  {
   "cell_type": "code",
   "execution_count": 31,
   "id": "9794bdd0",
   "metadata": {},
   "outputs": [
    {
     "data": {
      "text/plain": [
       "[<matplotlib.lines.Line2D at 0x7f8286baa820>]"
      ]
     },
     "execution_count": 31,
     "metadata": {},
     "output_type": "execute_result"
    },
    {
     "data": {
      "image/png": "[encoded data removed]",
      "text/plain": [
       "<Figure size 640x480 with 1 Axes>"
      ]
     },
     "metadata": {},
     "output_type": "display_data"
    }
   ],
   "source": [
    "plt.scatter(vendas.quantidade, vendas.comissao)\n",
    "plt.plot(vendas.quantidade, y3, color='orange')"
   ]
  },
  {
   "cell_type": "markdown",
   "id": "49798c18",
   "metadata": {},
   "source": [
    "## Regressão polinomial com Sklearn"
   ]
  },
  {
   "cell_type": "code",
   "execution_count": 32,
   "id": "b5fcf14b",
   "metadata": {},
   "outputs": [],
   "source": [
    "from sklearn.preprocessing import PolynomialFeatures\n",
    "from sklearn.linear_model import LinearRegression"
   ]
  },
  {
   "cell_type": "code",
   "execution_count": 33,
   "id": "7c13012e",
   "metadata": {},
   "outputs": [],
   "source": [
    "# Pré processamento\n",
    "pre_process = PolynomialFeatures(degree=2)"
   ]
  },
  {
   "cell_type": "code",
   "execution_count": 34,
   "id": "edc75710",
   "metadata": {},
   "outputs": [],
   "source": [
    "# A var dependente tem que ser escrita com [[ ]]\n",
    "x = vendas[['quantidade']]\n",
    "y =vendas.comissao"
   ]
  },
  {
   "cell_type": "code",
   "execution_count": 35,
   "id": "c2a3f4dc",
   "metadata": {
    "collapsed": true
   },
   "outputs": [
    {
     "data": {
      "text/html": [
       "<div>\n",
       "<style scoped>\n",
       "    .dataframe tbody tr th:only-of-type {\n",
       "        vertical-align: middle;\n",
       "    }\n",
       "\n",
       "    .dataframe tbody tr th {\n",
       "        vertical-align: top;\n",
       "    }\n",
       "\n",
       "    .dataframe thead th {\n",
       "        text-align: right;\n",
       "    }\n",
       "</style>\n",
       "<table border=\"1\" class=\"dataframe\">\n",
       "  <thead>\n",
       "    <tr style=\"text-align: right;\">\n",
       "      <th></th>\n",
       "      <th>quantidade</th>\n",
       "    </tr>\n",
       "  </thead>\n",
       "  <tbody>\n",
       "    <tr>\n",
       "      <th>0</th>\n",
       "      <td>1</td>\n",
       "    </tr>\n",
       "    <tr>\n",
       "      <th>1</th>\n",
       "      <td>2</td>\n",
       "    </tr>\n",
       "    <tr>\n",
       "      <th>2</th>\n",
       "      <td>3</td>\n",
       "    </tr>\n",
       "    <tr>\n",
       "      <th>3</th>\n",
       "      <td>4</td>\n",
       "    </tr>\n",
       "    <tr>\n",
       "      <th>4</th>\n",
       "      <td>5</td>\n",
       "    </tr>\n",
       "    <tr>\n",
       "      <th>5</th>\n",
       "      <td>6</td>\n",
       "    </tr>\n",
       "    <tr>\n",
       "      <th>6</th>\n",
       "      <td>7</td>\n",
       "    </tr>\n",
       "    <tr>\n",
       "      <th>7</th>\n",
       "      <td>8</td>\n",
       "    </tr>\n",
       "    <tr>\n",
       "      <th>8</th>\n",
       "      <td>9</td>\n",
       "    </tr>\n",
       "    <tr>\n",
       "      <th>9</th>\n",
       "      <td>10</td>\n",
       "    </tr>\n",
       "    <tr>\n",
       "      <th>10</th>\n",
       "      <td>11</td>\n",
       "    </tr>\n",
       "    <tr>\n",
       "      <th>11</th>\n",
       "      <td>12</td>\n",
       "    </tr>\n",
       "    <tr>\n",
       "      <th>12</th>\n",
       "      <td>13</td>\n",
       "    </tr>\n",
       "    <tr>\n",
       "      <th>13</th>\n",
       "      <td>14</td>\n",
       "    </tr>\n",
       "    <tr>\n",
       "      <th>14</th>\n",
       "      <td>15</td>\n",
       "    </tr>\n",
       "    <tr>\n",
       "      <th>15</th>\n",
       "      <td>16</td>\n",
       "    </tr>\n",
       "    <tr>\n",
       "      <th>16</th>\n",
       "      <td>17</td>\n",
       "    </tr>\n",
       "    <tr>\n",
       "      <th>17</th>\n",
       "      <td>18</td>\n",
       "    </tr>\n",
       "    <tr>\n",
       "      <th>18</th>\n",
       "      <td>19</td>\n",
       "    </tr>\n",
       "    <tr>\n",
       "      <th>19</th>\n",
       "      <td>20</td>\n",
       "    </tr>\n",
       "    <tr>\n",
       "      <th>20</th>\n",
       "      <td>21</td>\n",
       "    </tr>\n",
       "    <tr>\n",
       "      <th>21</th>\n",
       "      <td>22</td>\n",
       "    </tr>\n",
       "    <tr>\n",
       "      <th>22</th>\n",
       "      <td>23</td>\n",
       "    </tr>\n",
       "    <tr>\n",
       "      <th>23</th>\n",
       "      <td>24</td>\n",
       "    </tr>\n",
       "    <tr>\n",
       "      <th>24</th>\n",
       "      <td>25</td>\n",
       "    </tr>\n",
       "    <tr>\n",
       "      <th>25</th>\n",
       "      <td>26</td>\n",
       "    </tr>\n",
       "    <tr>\n",
       "      <th>26</th>\n",
       "      <td>27</td>\n",
       "    </tr>\n",
       "    <tr>\n",
       "      <th>27</th>\n",
       "      <td>28</td>\n",
       "    </tr>\n",
       "    <tr>\n",
       "      <th>28</th>\n",
       "      <td>29</td>\n",
       "    </tr>\n",
       "    <tr>\n",
       "      <th>29</th>\n",
       "      <td>30</td>\n",
       "    </tr>\n",
       "    <tr>\n",
       "      <th>30</th>\n",
       "      <td>31</td>\n",
       "    </tr>\n",
       "    <tr>\n",
       "      <th>31</th>\n",
       "      <td>32</td>\n",
       "    </tr>\n",
       "    <tr>\n",
       "      <th>32</th>\n",
       "      <td>33</td>\n",
       "    </tr>\n",
       "    <tr>\n",
       "      <th>33</th>\n",
       "      <td>34</td>\n",
       "    </tr>\n",
       "    <tr>\n",
       "      <th>34</th>\n",
       "      <td>35</td>\n",
       "    </tr>\n",
       "    <tr>\n",
       "      <th>35</th>\n",
       "      <td>36</td>\n",
       "    </tr>\n",
       "    <tr>\n",
       "      <th>36</th>\n",
       "      <td>37</td>\n",
       "    </tr>\n",
       "    <tr>\n",
       "      <th>37</th>\n",
       "      <td>38</td>\n",
       "    </tr>\n",
       "    <tr>\n",
       "      <th>38</th>\n",
       "      <td>39</td>\n",
       "    </tr>\n",
       "    <tr>\n",
       "      <th>39</th>\n",
       "      <td>40</td>\n",
       "    </tr>\n",
       "    <tr>\n",
       "      <th>40</th>\n",
       "      <td>41</td>\n",
       "    </tr>\n",
       "    <tr>\n",
       "      <th>41</th>\n",
       "      <td>42</td>\n",
       "    </tr>\n",
       "    <tr>\n",
       "      <th>42</th>\n",
       "      <td>43</td>\n",
       "    </tr>\n",
       "    <tr>\n",
       "      <th>43</th>\n",
       "      <td>44</td>\n",
       "    </tr>\n",
       "    <tr>\n",
       "      <th>44</th>\n",
       "      <td>45</td>\n",
       "    </tr>\n",
       "    <tr>\n",
       "      <th>45</th>\n",
       "      <td>46</td>\n",
       "    </tr>\n",
       "    <tr>\n",
       "      <th>46</th>\n",
       "      <td>47</td>\n",
       "    </tr>\n",
       "    <tr>\n",
       "      <th>47</th>\n",
       "      <td>48</td>\n",
       "    </tr>\n",
       "    <tr>\n",
       "      <th>48</th>\n",
       "      <td>49</td>\n",
       "    </tr>\n",
       "    <tr>\n",
       "      <th>49</th>\n",
       "      <td>50</td>\n",
       "    </tr>\n",
       "  </tbody>\n",
       "</table>\n",
       "</div>"
      ],
      "text/plain": [
       "    quantidade\n",
       "0            1\n",
       "1            2\n",
       "2            3\n",
       "3            4\n",
       "4            5\n",
       "5            6\n",
       "6            7\n",
       "7            8\n",
       "8            9\n",
       "9           10\n",
       "10          11\n",
       "11          12\n",
       "12          13\n",
       "13          14\n",
       "14          15\n",
       "15          16\n",
       "16          17\n",
       "17          18\n",
       "18          19\n",
       "19          20\n",
       "20          21\n",
       "21          22\n",
       "22          23\n",
       "23          24\n",
       "24          25\n",
       "25          26\n",
       "26          27\n",
       "27          28\n",
       "28          29\n",
       "29          30\n",
       "30          31\n",
       "31          32\n",
       "32          33\n",
       "33          34\n",
       "34          35\n",
       "35          36\n",
       "36          37\n",
       "37          38\n",
       "38          39\n",
       "39          40\n",
       "40          41\n",
       "41          42\n",
       "42          43\n",
       "43          44\n",
       "44          45\n",
       "45          46\n",
       "46          47\n",
       "47          48\n",
       "48          49\n",
       "49          50"
      ]
     },
     "execution_count": 35,
     "metadata": {},
     "output_type": "execute_result"
    }
   ],
   "source": [
    "x"
   ]
  },
  {
   "cell_type": "code",
   "execution_count": 36,
   "id": "612d8011",
   "metadata": {
    "collapsed": true
   },
   "outputs": [
    {
     "data": {
      "text/plain": [
       "0      728.0\n",
       "1      762.0\n",
       "2      802.0\n",
       "3      848.0\n",
       "4      900.0\n",
       "5      958.0\n",
       "6     1022.0\n",
       "7     1092.0\n",
       "8     1168.0\n",
       "9     1250.0\n",
       "10    1338.0\n",
       "11    1432.0\n",
       "12    1532.0\n",
       "13    1638.0\n",
       "14    1750.0\n",
       "15    1868.0\n",
       "16    1992.0\n",
       "17    2122.0\n",
       "18    2258.0\n",
       "19    2400.0\n",
       "20    2548.0\n",
       "21    2702.0\n",
       "22    2862.0\n",
       "23    3028.0\n",
       "24    3200.0\n",
       "25    3378.0\n",
       "26    3562.0\n",
       "27    3752.0\n",
       "28    3948.0\n",
       "29    4150.0\n",
       "30    4358.0\n",
       "31    4572.0\n",
       "32    4792.0\n",
       "33    5018.0\n",
       "34    5250.0\n",
       "35    5488.0\n",
       "36    5732.0\n",
       "37    5982.0\n",
       "38    6238.0\n",
       "39    6500.0\n",
       "40    6768.0\n",
       "41    7042.0\n",
       "42    7322.0\n",
       "43    7608.0\n",
       "44    7900.0\n",
       "45    8198.0\n",
       "46    8502.0\n",
       "47    8812.0\n",
       "48    9128.0\n",
       "49    9450.0\n",
       "Name: comissao, dtype: float64"
      ]
     },
     "execution_count": 36,
     "metadata": {},
     "output_type": "execute_result"
    }
   ],
   "source": [
    "y"
   ]
  },
  {
   "cell_type": "code",
   "execution_count": 37,
   "id": "116df7e8",
   "metadata": {},
   "outputs": [
    {
     "data": {
      "text/plain": [
       "array([[1.000e+00, 1.000e+00, 1.000e+00],\n",
       "       [1.000e+00, 2.000e+00, 4.000e+00],\n",
       "       [1.000e+00, 3.000e+00, 9.000e+00],\n",
       "       [1.000e+00, 4.000e+00, 1.600e+01],\n",
       "       [1.000e+00, 5.000e+00, 2.500e+01],\n",
       "       [1.000e+00, 6.000e+00, 3.600e+01],\n",
       "       [1.000e+00, 7.000e+00, 4.900e+01],\n",
       "       [1.000e+00, 8.000e+00, 6.400e+01],\n",
       "       [1.000e+00, 9.000e+00, 8.100e+01],\n",
       "       [1.000e+00, 1.000e+01, 1.000e+02],\n",
       "       [1.000e+00, 1.100e+01, 1.210e+02],\n",
       "       [1.000e+00, 1.200e+01, 1.440e+02],\n",
       "       [1.000e+00, 1.300e+01, 1.690e+02],\n",
       "       [1.000e+00, 1.400e+01, 1.960e+02],\n",
       "       [1.000e+00, 1.500e+01, 2.250e+02],\n",
       "       [1.000e+00, 1.600e+01, 2.560e+02],\n",
       "       [1.000e+00, 1.700e+01, 2.890e+02],\n",
       "       [1.000e+00, 1.800e+01, 3.240e+02],\n",
       "       [1.000e+00, 1.900e+01, 3.610e+02],\n",
       "       [1.000e+00, 2.000e+01, 4.000e+02],\n",
       "       [1.000e+00, 2.100e+01, 4.410e+02],\n",
       "       [1.000e+00, 2.200e+01, 4.840e+02],\n",
       "       [1.000e+00, 2.300e+01, 5.290e+02],\n",
       "       [1.000e+00, 2.400e+01, 5.760e+02],\n",
       "       [1.000e+00, 2.500e+01, 6.250e+02],\n",
       "       [1.000e+00, 2.600e+01, 6.760e+02],\n",
       "       [1.000e+00, 2.700e+01, 7.290e+02],\n",
       "       [1.000e+00, 2.800e+01, 7.840e+02],\n",
       "       [1.000e+00, 2.900e+01, 8.410e+02],\n",
       "       [1.000e+00, 3.000e+01, 9.000e+02],\n",
       "       [1.000e+00, 3.100e+01, 9.610e+02],\n",
       "       [1.000e+00, 3.200e+01, 1.024e+03],\n",
       "       [1.000e+00, 3.300e+01, 1.089e+03],\n",
       "       [1.000e+00, 3.400e+01, 1.156e+03],\n",
       "       [1.000e+00, 3.500e+01, 1.225e+03],\n",
       "       [1.000e+00, 3.600e+01, 1.296e+03],\n",
       "       [1.000e+00, 3.700e+01, 1.369e+03],\n",
       "       [1.000e+00, 3.800e+01, 1.444e+03],\n",
       "       [1.000e+00, 3.900e+01, 1.521e+03],\n",
       "       [1.000e+00, 4.000e+01, 1.600e+03],\n",
       "       [1.000e+00, 4.100e+01, 1.681e+03],\n",
       "       [1.000e+00, 4.200e+01, 1.764e+03],\n",
       "       [1.000e+00, 4.300e+01, 1.849e+03],\n",
       "       [1.000e+00, 4.400e+01, 1.936e+03],\n",
       "       [1.000e+00, 4.500e+01, 2.025e+03],\n",
       "       [1.000e+00, 4.600e+01, 2.116e+03],\n",
       "       [1.000e+00, 4.700e+01, 2.209e+03],\n",
       "       [1.000e+00, 4.800e+01, 2.304e+03],\n",
       "       [1.000e+00, 4.900e+01, 2.401e+03],\n",
       "       [1.000e+00, 5.000e+01, 2.500e+03]])"
      ]
     },
     "execution_count": 37,
     "metadata": {},
     "output_type": "execute_result"
    }
   ],
   "source": [
    "x_poly = pre_process.fit_transform(x)\n",
    "x_poly"
   ]
  },
  {
   "cell_type": "markdown",
   "id": "c5cfdbd6",
   "metadata": {},
   "source": [
    "### Criação do modelo"
   ]
  },
  {
   "cell_type": "code",
   "execution_count": 38,
   "id": "ecedd09a",
   "metadata": {},
   "outputs": [],
   "source": [
    "modelo_sk = LinearRegression()"
   ]
  },
  {
   "cell_type": "code",
   "execution_count": 39,
   "id": "f9782d04",
   "metadata": {},
   "outputs": [
    {
     "data": {
      "text/html": [
       "<style>#sk-container-id-1 {color: black;background-color: white;}#sk-container-id-1 pre{padding: 0;}#sk-container-id-1 div.sk-toggleable {background-color: white;}#sk-container-id-1 label.sk-toggleable__label {cursor: pointer;display: block;width: 100%;margin-bottom: 0;padding: 0.3em;box-sizing: border-box;text-align: center;}#sk-container-id-1 label.sk-toggleable__label-arrow:before {content: \"▸\";float: left;margin-right: 0.25em;color: #696969;}#sk-container-id-1 label.sk-toggleable__label-arrow:hover:before {color: black;}#sk-container-id-1 div.sk-estimator:hover label.sk-toggleable__label-arrow:before {color: black;}#sk-container-id-1 div.sk-toggleable__content {max-height: 0;max-width: 0;overflow: hidden;text-align: left;background-color: #f0f8ff;}#sk-container-id-1 div.sk-toggleable__content pre {margin: 0.2em;color: black;border-radius: 0.25em;background-color: #f0f8ff;}#sk-container-id-1 input.sk-toggleable__control:checked~div.sk-toggleable__content {max-height: 200px;max-width: 100%;overflow: auto;}#sk-container-id-1 input.sk-toggleable__control:checked~label.sk-toggleable__label-arrow:before {content: \"▾\";}#sk-container-id-1 div.sk-estimator input.sk-toggleable__control:checked~label.sk-toggleable__label {background-color: #d4ebff;}#sk-container-id-1 div.sk-label input.sk-toggleable__control:checked~label.sk-toggleable__label {background-color: #d4ebff;}#sk-container-id-1 input.sk-hidden--visually {border: 0;clip: rect(1px 1px 1px 1px);clip: rect(1px, 1px, 1px, 1px);height: 1px;margin: -1px;overflow: hidden;padding: 0;position: absolute;width: 1px;}#sk-container-id-1 div.sk-estimator {font-family: monospace;background-color: #f0f8ff;border: 1px dotted black;border-radius: 0.25em;box-sizing: border-box;margin-bottom: 0.5em;}#sk-container-id-1 div.sk-estimator:hover {background-color: #d4ebff;}#sk-container-id-1 div.sk-parallel-item::after {content: \"\";width: 100%;border-bottom: 1px solid gray;flex-grow: 1;}#sk-container-id-1 div.sk-label:hover label.sk-toggleable__label {background-color: #d4ebff;}#sk-container-id-1 div.sk-serial::before {content: \"\";position: absolute;border-left: 1px solid gray;box-sizing: border-box;top: 0;bottom: 0;left: 50%;z-index: 0;}#sk-container-id-1 div.sk-serial {display: flex;flex-direction: column;align-items: center;background-color: white;padding-right: 0.2em;padding-left: 0.2em;position: relative;}#sk-container-id-1 div.sk-item {position: relative;z-index: 1;}#sk-container-id-1 div.sk-parallel {display: flex;align-items: stretch;justify-content: center;background-color: white;position: relative;}#sk-container-id-1 div.sk-item::before, #sk-container-id-1 div.sk-parallel-item::before {content: \"\";position: absolute;border-left: 1px solid gray;box-sizing: border-box;top: 0;bottom: 0;left: 50%;z-index: -1;}#sk-container-id-1 div.sk-parallel-item {display: flex;flex-direction: column;z-index: 1;position: relative;background-color: white;}#sk-container-id-1 div.sk-parallel-item:first-child::after {align-self: flex-end;width: 50%;}#sk-container-id-1 div.sk-parallel-item:last-child::after {align-self: flex-start;width: 50%;}#sk-container-id-1 div.sk-parallel-item:only-child::after {width: 0;}#sk-container-id-1 div.sk-dashed-wrapped {border: 1px dashed gray;margin: 0 0.4em 0.5em 0.4em;box-sizing: border-box;padding-bottom: 0.4em;background-color: white;}#sk-container-id-1 div.sk-label label {font-family: monospace;font-weight: bold;display: inline-block;line-height: 1.2em;}#sk-container-id-1 div.sk-label-container {text-align: center;}#sk-container-id-1 div.sk-container {/* jupyter's `normalize.less` sets `[hidden] { display: none; }` but bootstrap.min.css set `[hidden] { display: none !important; }` so we also need the `!important` here to be able to override the default hidden behavior on the sphinx rendered scikit-learn.org. See: https://github.com/scikit-learn/scikit-learn/issues/21755 */display: inline-block !important;position: relative;}#sk-container-id-1 div.sk-text-repr-fallback {display: none;}</style><div id=\"sk-container-id-1\" class=\"sk-top-container\"><div class=\"sk-text-repr-fallback\"><pre>LinearRegression()</pre><b>In a Jupyter environment, please rerun this cell to show the HTML representation or trust the notebook. <br />On GitHub, the HTML representation is unable to render, please try loading this page with nbviewer.org.</b></div><div class=\"sk-container\" hidden><div class=\"sk-item\"><div class=\"sk-estimator sk-toggleable\"><input class=\"sk-toggleable__control sk-hidden--visually\" id=\"sk-estimator-id-1\" type=\"checkbox\" checked><label for=\"sk-estimator-id-1\" class=\"sk-toggleable__label sk-toggleable__label-arrow\">LinearRegression</label><div class=\"sk-toggleable__content\"><pre>LinearRegression()</pre></div></div></div></div></div>"
      ],
      "text/plain": [
       "LinearRegression()"
      ]
     },
     "execution_count": 39,
     "metadata": {},
     "output_type": "execute_result"
    }
   ],
   "source": [
    "modelo_sk.fit(x_poly, y)"
   ]
  },
  {
   "cell_type": "code",
   "execution_count": 40,
   "id": "156db140",
   "metadata": {},
   "outputs": [],
   "source": [
    "y_pred = modelo_sk.predict(x_poly)"
   ]
  },
  {
   "cell_type": "code",
   "execution_count": 42,
   "id": "203f1f48",
   "metadata": {},
   "outputs": [
    {
     "data": {
      "image/png": "[encoded data removed]",
      "text/plain": [
       "<Figure size 640x480 with 1 Axes>"
      ]
     },
     "metadata": {},
     "output_type": "display_data"
    }
   ],
   "source": [
    "plt.scatter(x, y, c = 'orange')\n",
    "plt.xlabel('Quantidade')\n",
    "plt.ylabel('Comissão')\n",
    "plt.plot(x, y_pred);"
   ]
  },
  {
   "cell_type": "code",
   "execution_count": 43,
   "id": "5c735c5f",
   "metadata": {},
   "outputs": [
    {
     "data": {
      "text/plain": [
       "array([ 0., 25.,  3.])"
      ]
     },
     "execution_count": 43,
     "metadata": {},
     "output_type": "execute_result"
    }
   ],
   "source": [
    "modelo_sk.coef_"
   ]
  },
  {
   "cell_type": "code",
   "execution_count": 44,
   "id": "a71ce7af",
   "metadata": {},
   "outputs": [
    {
     "data": {
      "text/plain": [
       "700.0000000000059"
      ]
     },
     "execution_count": 44,
     "metadata": {},
     "output_type": "execute_result"
    }
   ],
   "source": [
    "modelo_sk.intercept_"
   ]
  },
  {
   "cell_type": "code",
   "execution_count": 47,
   "id": "c11543ab",
   "metadata": {},
   "outputs": [
    {
     "name": "stdout",
     "output_type": "stream",
     "text": [
      "Equação: Comissão = 700.0 + (25.0 * quantidade) + 3.0 * (quantidade) ^ 2\n"
     ]
    }
   ],
   "source": [
    "print(f'Equação: Comissão = {modelo_sk.intercept_:.1f} + ({modelo_sk.coef_[1]:.1f} * quantidade) + {modelo_sk.coef_[2]:.1f} * (quantidade) ^ 2')"
   ]
  },
  {
   "cell_type": "markdown",
   "id": "4dc46664",
   "metadata": {},
   "source": [
    "### Previsão"
   ]
  },
  {
   "cell_type": "code",
   "execution_count": 59,
   "id": "96dbfdc5",
   "metadata": {},
   "outputs": [
    {
     "name": "stdout",
     "output_type": "stream",
     "text": [
      "Se vender 70 peças, irá ganhar 17150.00 reais de comissão.\n"
     ]
    }
   ],
   "source": [
    "quantidade = 70\n",
    "previsao = modelo_sk.predict(pre_process.fit_transform([[quantidade]]))\n",
    "print(f'Se vender {quantidade} peças, irá ganhar {previsao[0]:.2f} reais de comissão.')"
   ]
  },
  {
   "cell_type": "code",
   "execution_count": 65,
   "id": "de9f05b3",
   "metadata": {},
   "outputs": [
    {
     "data": {
      "text/plain": [
       "<matplotlib.collections.PathCollection at 0x7f8281e32220>"
      ]
     },
     "execution_count": 65,
     "metadata": {},
     "output_type": "execute_result"
    },
    {
     "data": {
      "image/png": "[encoded data removed]",
      "text/plain": [
       "<Figure size 640x480 with 1 Axes>"
      ]
     },
     "metadata": {},
     "output_type": "display_data"
    }
   ],
   "source": [
    "# Gráfico com valor previsto\n",
    "plt.scatter(x, y,c = 'green')\n",
    "plt.xlabel('Quantidade')\n",
    "plt.ylabel('Comissão')\n",
    "plt.plot(x,y_pred)\n",
    "plt.scatter(73, previsao, c = 'blue')"
   ]
  },
  {
   "cell_type": "markdown",
   "id": "5b620076",
   "metadata": {},
   "source": [
    "### Avaliação do modelo"
   ]
  },
  {
   "cell_type": "code",
   "execution_count": 62,
   "id": "029f9fa2",
   "metadata": {},
   "outputs": [],
   "source": [
    "from sklearn.metrics import mean_squared_error, mean_absolute_error"
   ]
  },
  {
   "cell_type": "code",
   "execution_count": 66,
   "id": "19c9004b",
   "metadata": {},
   "outputs": [
    {
     "data": {
      "text/plain": [
       "7.633584584157331e-24"
      ]
     },
     "execution_count": 66,
     "metadata": {},
     "output_type": "execute_result"
    }
   ],
   "source": [
    "# Erro médio quadrático (MSE)\n",
    "mean_squared_error(y, y_pred)"
   ]
  },
  {
   "cell_type": "code",
   "execution_count": 67,
   "id": "1231e5e7",
   "metadata": {},
   "outputs": [
    {
     "data": {
      "text/plain": [
       "2.3669599613640458e-12"
      ]
     },
     "execution_count": 67,
     "metadata": {},
     "output_type": "execute_result"
    }
   ],
   "source": [
    "# Erro médio absoluto (MAE)\n",
    "mean_absolute_error(y, y_pred)"
   ]
  }
 ],
 "metadata": {
  "kernelspec": {
   "display_name": "Python 3 (ipykernel)",
   "language": "python",
   "name": "python3"
  },
  "language_info": {
   "codemirror_mode": {
    "name": "ipython",
    "version": 3
   },
   "file_extension": ".py",
   "mimetype": "text/x-python",
   "name": "python",
   "nbconvert_exporter": "python",
   "pygments_lexer": "ipython3",
   "version": "3.8.10"
  }
 },
 "nbformat": 4,
 "nbformat_minor": 5
}
