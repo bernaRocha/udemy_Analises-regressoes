{
 "cells": [
  {
   "cell_type": "markdown",
   "id": "c08bc977",
   "metadata": {},
   "source": [
    "# Regressão quantílica"
   ]
  },
  {
   "cell_type": "markdown",
   "id": "3d45e084",
   "metadata": {},
   "source": [
    "É uma complmentação da regressão linear. <br>\n",
    "Indicada quando existe outliers e heterocedasticidade (forte dispersão dos dados em torno de uma reta).<br>\n",
    "Utiliza os quantis como referência, pois a média não descreve toda a distribuição, como no caso da regressão linear. <br>"
   ]
  },
  {
   "cell_type": "code",
   "execution_count": 1,
   "id": "920c2047",
   "metadata": {},
   "outputs": [],
   "source": [
    "import pandas as pd\n",
    "import numpy as np"
   ]
  },
  {
   "cell_type": "code",
   "execution_count": 2,
   "id": "2912c8a8",
   "metadata": {},
   "outputs": [],
   "source": [
    "gasto = pd.read_excel('dados/gasto_almoco.xlsx')"
   ]
  },
  {
   "cell_type": "code",
   "execution_count": 3,
   "id": "6a5b9d43",
   "metadata": {},
   "outputs": [
    {
     "data": {
      "text/html": [
       "<div>\n",
       "<style scoped>\n",
       "    .dataframe tbody tr th:only-of-type {\n",
       "        vertical-align: middle;\n",
       "    }\n",
       "\n",
       "    .dataframe tbody tr th {\n",
       "        vertical-align: top;\n",
       "    }\n",
       "\n",
       "    .dataframe thead th {\n",
       "        text-align: right;\n",
       "    }\n",
       "</style>\n",
       "<table border=\"1\" class=\"dataframe\">\n",
       "  <thead>\n",
       "    <tr style=\"text-align: right;\">\n",
       "      <th></th>\n",
       "      <th>dia</th>\n",
       "      <th>gasto_dia_reais</th>\n",
       "      <th>num_refeicoes</th>\n",
       "      <th>gasto_acum_reais</th>\n",
       "    </tr>\n",
       "  </thead>\n",
       "  <tbody>\n",
       "    <tr>\n",
       "      <th>0</th>\n",
       "      <td>1</td>\n",
       "      <td>26</td>\n",
       "      <td>1</td>\n",
       "      <td>26</td>\n",
       "    </tr>\n",
       "    <tr>\n",
       "      <th>1</th>\n",
       "      <td>2</td>\n",
       "      <td>18</td>\n",
       "      <td>2</td>\n",
       "      <td>44</td>\n",
       "    </tr>\n",
       "    <tr>\n",
       "      <th>2</th>\n",
       "      <td>3</td>\n",
       "      <td>37</td>\n",
       "      <td>3</td>\n",
       "      <td>81</td>\n",
       "    </tr>\n",
       "    <tr>\n",
       "      <th>3</th>\n",
       "      <td>4</td>\n",
       "      <td>21</td>\n",
       "      <td>4</td>\n",
       "      <td>102</td>\n",
       "    </tr>\n",
       "    <tr>\n",
       "      <th>4</th>\n",
       "      <td>5</td>\n",
       "      <td>39</td>\n",
       "      <td>5</td>\n",
       "      <td>141</td>\n",
       "    </tr>\n",
       "    <tr>\n",
       "      <th>...</th>\n",
       "      <td>...</td>\n",
       "      <td>...</td>\n",
       "      <td>...</td>\n",
       "      <td>...</td>\n",
       "    </tr>\n",
       "    <tr>\n",
       "      <th>59</th>\n",
       "      <td>60</td>\n",
       "      <td>33</td>\n",
       "      <td>60</td>\n",
       "      <td>1826</td>\n",
       "    </tr>\n",
       "    <tr>\n",
       "      <th>60</th>\n",
       "      <td>61</td>\n",
       "      <td>38</td>\n",
       "      <td>61</td>\n",
       "      <td>1864</td>\n",
       "    </tr>\n",
       "    <tr>\n",
       "      <th>61</th>\n",
       "      <td>62</td>\n",
       "      <td>122</td>\n",
       "      <td>66</td>\n",
       "      <td>1986</td>\n",
       "    </tr>\n",
       "    <tr>\n",
       "      <th>62</th>\n",
       "      <td>63</td>\n",
       "      <td>34</td>\n",
       "      <td>67</td>\n",
       "      <td>2020</td>\n",
       "    </tr>\n",
       "    <tr>\n",
       "      <th>63</th>\n",
       "      <td>64</td>\n",
       "      <td>48</td>\n",
       "      <td>68</td>\n",
       "      <td>2068</td>\n",
       "    </tr>\n",
       "  </tbody>\n",
       "</table>\n",
       "<p>64 rows × 4 columns</p>\n",
       "</div>"
      ],
      "text/plain": [
       "    dia  gasto_dia_reais  num_refeicoes  gasto_acum_reais\n",
       "0     1               26              1                26\n",
       "1     2               18              2                44\n",
       "2     3               37              3                81\n",
       "3     4               21              4               102\n",
       "4     5               39              5               141\n",
       "..  ...              ...            ...               ...\n",
       "59   60               33             60              1826\n",
       "60   61               38             61              1864\n",
       "61   62              122             66              1986\n",
       "62   63               34             67              2020\n",
       "63   64               48             68              2068\n",
       "\n",
       "[64 rows x 4 columns]"
      ]
     },
     "execution_count": 3,
     "metadata": {},
     "output_type": "execute_result"
    }
   ],
   "source": [
    "gasto"
   ]
  },
  {
   "cell_type": "code",
   "execution_count": 4,
   "id": "f3f1fe11",
   "metadata": {},
   "outputs": [
    {
     "data": {
      "text/plain": [
       "(64, 4)"
      ]
     },
     "execution_count": 4,
     "metadata": {},
     "output_type": "execute_result"
    }
   ],
   "source": [
    "gasto.shape"
   ]
  },
  {
   "cell_type": "code",
   "execution_count": 5,
   "id": "d0539a1a",
   "metadata": {},
   "outputs": [
    {
     "data": {
      "text/plain": [
       "dia                 int64\n",
       "gasto_dia_reais     int64\n",
       "num_refeicoes       int64\n",
       "gasto_acum_reais    int64\n",
       "dtype: object"
      ]
     },
     "execution_count": 5,
     "metadata": {},
     "output_type": "execute_result"
    }
   ],
   "source": [
    "gasto.dtypes"
   ]
  },
  {
   "cell_type": "code",
   "execution_count": 6,
   "id": "48387293",
   "metadata": {
    "scrolled": true
   },
   "outputs": [
    {
     "data": {
      "text/plain": [
       "dia                 0\n",
       "gasto_dia_reais     0\n",
       "num_refeicoes       0\n",
       "gasto_acum_reais    0\n",
       "dtype: int64"
      ]
     },
     "execution_count": 6,
     "metadata": {},
     "output_type": "execute_result"
    }
   ],
   "source": [
    "gasto.isnull().sum()"
   ]
  },
  {
   "cell_type": "markdown",
   "id": "8166753f",
   "metadata": {},
   "source": [
    "###### Análise de regressão linear"
   ]
  },
  {
   "cell_type": "code",
   "execution_count": 7,
   "id": "39e10306",
   "metadata": {},
   "outputs": [],
   "source": [
    "import matplotlib.pyplot as plt"
   ]
  },
  {
   "cell_type": "code",
   "execution_count": 8,
   "id": "0e1b12f6",
   "metadata": {},
   "outputs": [
    {
     "data": {
      "image/png": "[encoded data removed]",
      "text/plain": [
       "<Figure size 640x480 with 1 Axes>"
      ]
     },
     "metadata": {},
     "output_type": "display_data"
    }
   ],
   "source": [
    "plt.scatter(gasto.dia, gasto.gasto_acum_reais)\n",
    "plt.xlabel('Dia')\n",
    "plt.ylabel('Gastos')\n",
    "plt.grid(True)\n",
    "plt.show()"
   ]
  },
  {
   "cell_type": "markdown",
   "id": "debe52c1",
   "metadata": {},
   "source": [
    "###### Análise de normalidade"
   ]
  },
  {
   "cell_type": "markdown",
   "id": "818e5568",
   "metadata": {},
   "source": [
    "Gráfico QQ-Plot"
   ]
  },
  {
   "cell_type": "code",
   "execution_count": 9,
   "id": "13becf70",
   "metadata": {},
   "outputs": [],
   "source": [
    "import scipy.stats as stats"
   ]
  },
  {
   "cell_type": "code",
   "execution_count": 10,
   "id": "e4f29c38",
   "metadata": {},
   "outputs": [
    {
     "data": {
      "image/png": "[encoded data removed]",
      "text/plain": [
       "<Figure size 640x480 with 1 Axes>"
      ]
     },
     "metadata": {},
     "output_type": "display_data"
    }
   ],
   "source": [
    "stats.probplot(gasto['gasto_acum_reais'], dist='norm', plot=plt)\n",
    "plt.title('Normal Q-Q plot')\n",
    "plt.show()"
   ]
  },
  {
   "cell_type": "markdown",
   "id": "bf016d81",
   "metadata": {},
   "source": [
    "<b>Teste Shapiro-Wilk </b><br>\n",
    "Ho = distribuição normal: p > 0.05 <br>\n",
    "Ha = distribuição != normal: p <= 0.05"
   ]
  },
  {
   "cell_type": "code",
   "execution_count": 11,
   "id": "fc57e4b9",
   "metadata": {},
   "outputs": [
    {
     "data": {
      "text/plain": [
       "ShapiroResult(statistic=0.9621436595916748, pvalue=0.047125596553087234)"
      ]
     },
     "execution_count": 11,
     "metadata": {},
     "output_type": "execute_result"
    }
   ],
   "source": [
    "stats.shapiro(gasto.gasto_acum_reais)"
   ]
  },
  {
   "cell_type": "code",
   "execution_count": 12,
   "id": "2ba9b982",
   "metadata": {},
   "outputs": [
    {
     "name": "stdout",
     "output_type": "stream",
     "text": [
      "Estatística do teste: 0.9621436595916748\n",
      "             P-valor: 0.047125596553087234\n"
     ]
    }
   ],
   "source": [
    "estatistica, p_valor = stats.shapiro(gasto.gasto_acum_reais)\n",
    "print(f'Estatística do teste: {estatistica}')\n",
    "print(f'             P-valor: {p_valor}')\n",
    "# A distribuição não é normal, por isso o uso de spearman"
   ]
  },
  {
   "cell_type": "markdown",
   "id": "9a4e70f2",
   "metadata": {},
   "source": [
    "##### Correlação linear\n",
    "Pearson (distribuição normal) <br>\n",
    "Spearman (distribuição não normal) <br>\n",
    "Kendall (distribuição não normal com quantidade pequena de amostras)"
   ]
  },
  {
   "cell_type": "markdown",
   "id": "8a95bdcb",
   "metadata": {},
   "source": [
    "H0 = não há correlação linear: p > 0.05<br>\n",
    "Ha = existe correlação linear: p <= 0.05"
   ]
  },
  {
   "cell_type": "code",
   "execution_count": 13,
   "id": "d8e648ec",
   "metadata": {},
   "outputs": [
    {
     "name": "stdout",
     "output_type": "stream",
     "text": [
      "Coeficiente de correlação: 0.9991907427078194\n",
      "               P-valor: 3.030401482831247e-88\n"
     ]
    }
   ],
   "source": [
    "# Pearson\n",
    "coef, p_valor = stats.pearsonr(gasto.dia, gasto.gasto_acum_reais)\n",
    "print(f'Coeficiente de correlação: {coef}') # Quase perfeita\n",
    "print(f'               P-valor: {p_valor}') # Existe correlação linear"
   ]
  },
  {
   "cell_type": "code",
   "execution_count": 14,
   "id": "caa07205",
   "metadata": {},
   "outputs": [
    {
     "name": "stdout",
     "output_type": "stream",
     "text": [
      "Coeficiente de correlação: 0.9999885530480366\n",
      "             P-valor: 1.4296719644744235e-145\n"
     ]
    }
   ],
   "source": [
    "# Spearman - utilizadoquando a distribuiçãonão é normal\n",
    "coef, p_valor = stats.spearmanr(gasto.dia, gasto.gasto_acum_reais)\n",
    "print(f'Coeficiente de correlação: {coef}') # Quase perfeita\n",
    "print(f'             P-valor: {p_valor}') # Existe correlação linear\n",
    "# p-valor bem menor que 0.05"
   ]
  },
  {
   "cell_type": "markdown",
   "id": "a436bbe0",
   "metadata": {},
   "source": [
    "## Modelo de regressão linear"
   ]
  },
  {
   "cell_type": "code",
   "execution_count": 15,
   "id": "c4966038",
   "metadata": {},
   "outputs": [],
   "source": [
    "import statsmodels.formula.api as smf\n",
    "import statsmodels.stats.api as sms"
   ]
  },
  {
   "cell_type": "code",
   "execution_count": 16,
   "id": "1fa8d952",
   "metadata": {},
   "outputs": [],
   "source": [
    "# Criação do modelo\n",
    "regressao_linear = smf.ols('gasto_acum_reais ~ dia', data=gasto).fit()"
   ]
  },
  {
   "cell_type": "code",
   "execution_count": 17,
   "id": "ba1e004b",
   "metadata": {},
   "outputs": [],
   "source": [
    "residuos = regressao_linear.resid"
   ]
  },
  {
   "cell_type": "markdown",
   "id": "71382178",
   "metadata": {},
   "source": [
    "#### Teste de Normalidade dos resíduos"
   ]
  },
  {
   "cell_type": "markdown",
   "id": "12693518",
   "metadata": {},
   "source": [
    "H0 = distribuição normal: p > 0.05<br>\n",
    "Ha = distribuição != normal: p <= 0.05"
   ]
  },
  {
   "cell_type": "code",
   "execution_count": 18,
   "id": "7ceec3a6",
   "metadata": {},
   "outputs": [
    {
     "name": "stdout",
     "output_type": "stream",
     "text": [
      "Estatística do teste: 0.8646502494812012\n",
      "           P-valor: 4.71544126412482e-06\n"
     ]
    }
   ],
   "source": [
    "estatistica, p_valor = stats.shapiro(residuos)\n",
    "print(f'Estatística do teste: {estatistica}')\n",
    "print(f'           P-valor: {p_valor}')\n",
    "# P-valor bem menor que 0.05, distribuição não normal"
   ]
  },
  {
   "cell_type": "code",
   "execution_count": 19,
   "id": "16dc1017",
   "metadata": {},
   "outputs": [
    {
     "data": {
      "image/png": "[encoded data removed]",
      "text/plain": [
       "<Figure size 640x480 with 1 Axes>"
      ]
     },
     "metadata": {},
     "output_type": "display_data"
    }
   ],
   "source": [
    "stats.probplot(residuos, dist=\"norm\", plot=plt)\n",
    "plt.title(\"Normal Q-Q plot - Resíduos\")\n",
    "plt.show()"
   ]
  },
  {
   "cell_type": "markdown",
   "id": "6e925b9c",
   "metadata": {},
   "source": [
    "### Análise da homocedasticidade dos resíduos\n",
    "(resíduos com variação constante)"
   ]
  },
  {
   "cell_type": "code",
   "execution_count": 20,
   "id": "9d21ff89",
   "metadata": {},
   "outputs": [
    {
     "data": {
      "image/png": "[encoded data removed]",
      "text/plain": [
       "<Figure size 640x480 with 1 Axes>"
      ]
     },
     "metadata": {},
     "output_type": "display_data"
    }
   ],
   "source": [
    "plt.scatter(y=residuos, x=regressao_linear.predict(), color='red')\n",
    "plt.hlines(y=0,xmin=0,xmax=4, color=\"orange\")\n",
    "plt.ylabel(\"Resíduos\")\n",
    "plt.xlabel(\"Valores preditos\")\n",
    "plt.show()"
   ]
  },
  {
   "cell_type": "markdown",
   "id": "6a392c97",
   "metadata": {},
   "source": [
    "Teste Breusch-Pagan (Homocedasticidade ou Heterocedasticidade)"
   ]
  },
  {
   "cell_type": "markdown",
   "id": "ebecc6cb",
   "metadata": {},
   "source": [
    "H0 = existe homocedasticidade: p > 0.05 <br>\n",
    "Ha = não existe homocedasticidade: p <= 0.05"
   ]
  },
  {
   "cell_type": "code",
   "execution_count": 21,
   "id": "6dac80b4",
   "metadata": {},
   "outputs": [],
   "source": [
    "from statsmodels.compat import lzip\n",
    "import statsmodels.stats.api as sms"
   ]
  },
  {
   "cell_type": "code",
   "execution_count": 23,
   "id": "2a4745a0",
   "metadata": {},
   "outputs": [
    {
     "name": "stdout",
     "output_type": "stream",
     "text": [
      "Estatística de teste: 8.551798019780456\n",
      "P-valor: 0.0034518111668789633\n",
      "f-valor: 9.562284407626684\n",
      "f_p-valor 0.0029756698764907595\n"
     ]
    }
   ],
   "source": [
    "estatistica, p_valor, f, fp = sms.het_breuschpagan(regressao_linear.resid, regressao_linear.model.exog)\n",
    "print(f\"Estatística de teste: {estatistica}\")\n",
    "print(f\"P-valor: {p_valor}\")\n",
    "print(f\"f-valor: {f}\")\n",
    "print(f\"f_p-valor {fp}\")\n",
    "# Não existe homocedasticidade, não sendo possível trabalhar com regressão linear, agora usaremos a regreesão quantílica"
   ]
  },
  {
   "cell_type": "markdown",
   "id": "0724490c",
   "metadata": {},
   "source": [
    "##### Outliers nos resíduos\n",
    "Entre -3 e 3"
   ]
  },
  {
   "cell_type": "code",
   "execution_count": 24,
   "id": "db6f7e85",
   "metadata": {},
   "outputs": [],
   "source": [
    "outliers = regressao_linear.outlier_test()"
   ]
  },
  {
   "cell_type": "code",
   "execution_count": 26,
   "id": "30b84b7a",
   "metadata": {},
   "outputs": [
    {
     "data": {
      "text/plain": [
       "student_resid    4.458242\n",
       "unadj_p          0.982688\n",
       "bonf(p)          1.000000\n",
       "dtype: float64"
      ]
     },
     "execution_count": 26,
     "metadata": {},
     "output_type": "execute_result"
    }
   ],
   "source": [
    "outliers.max()"
   ]
  },
  {
   "cell_type": "code",
   "execution_count": 27,
   "id": "951015d0",
   "metadata": {},
   "outputs": [
    {
     "data": {
      "text/plain": [
       "student_resid   -1.305146\n",
       "unadj_p          0.000036\n",
       "bonf(p)          0.002309\n",
       "dtype: float64"
      ]
     },
     "execution_count": 27,
     "metadata": {},
     "output_type": "execute_result"
    }
   ],
   "source": [
    "outliers.min()"
   ]
  },
  {
   "cell_type": "markdown",
   "id": "483beddf",
   "metadata": {},
   "source": [
    "<b>Modelo reprovado: Resíduos sem distribuição normal, com presença de outliers e heterocedasticidade </b><br>\n",
    "P-valor: 0.0034518111668789633 | student_resid    4.458242"
   ]
  },
  {
   "cell_type": "markdown",
   "id": "866700f3",
   "metadata": {},
   "source": [
    "## Modelo de regressão quantílica"
   ]
  },
  {
   "cell_type": "code",
   "execution_count": 29,
   "id": "cc4a3851",
   "metadata": {},
   "outputs": [
    {
     "name": "stdout",
     "output_type": "stream",
     "text": [
      "                         QuantReg Regression Results                          \n",
      "==============================================================================\n",
      "Dep. Variable:       gasto_acum_reais   Pseudo R-squared:               0.9705\n",
      "Model:                       QuantReg   Bandwidth:                       19.83\n",
      "Method:                 Least Squares   Sparsity:                        52.15\n",
      "Date:                Sat, 11 Mar 2023   No. Observations:                   64\n",
      "Time:                        09:18:37   Df Residuals:                       62\n",
      "                                        Df Model:                            1\n",
      "==============================================================================\n",
      "                 coef    std err          t      P>|t|      [0.025      0.975]\n",
      "------------------------------------------------------------------------------\n",
      "Intercept    -21.7143      6.536     -3.322      0.002     -34.780      -8.648\n",
      "dia           30.9286      0.181    171.127      0.000      30.567      31.290\n",
      "==============================================================================\n"
     ]
    }
   ],
   "source": [
    "modelo1 = smf.quantreg('gasto_acum_reais ~ dia', gasto) # var dep e depois a indep\n",
    "resultado = modelo1.fit(q=0.25)\n",
    "print(resultado.summary())"
   ]
  },
  {
   "cell_type": "markdown",
   "id": "43c68293",
   "metadata": {},
   "source": [
    "<b>Equação:</b> gasto_acum = -21.7143 + 30.9286 * dia"
   ]
  },
  {
   "cell_type": "code",
   "execution_count": 30,
   "id": "17cd3377",
   "metadata": {},
   "outputs": [
    {
     "name": "stdout",
     "output_type": "stream",
     "text": [
      "                         QuantReg Regression Results                          \n",
      "==============================================================================\n",
      "Dep. Variable:       gasto_acum_reais   Pseudo R-squared:               0.9691\n",
      "Model:                       QuantReg   Bandwidth:                       19.52\n",
      "Method:                 Least Squares   Sparsity:                        43.96\n",
      "Date:                Sat, 11 Mar 2023   No. Observations:                   64\n",
      "Time:                        09:20:09   Df Residuals:                       62\n",
      "                                        Df Model:                            1\n",
      "==============================================================================\n",
      "                 coef    std err          t      P>|t|      [0.025      0.975]\n",
      "------------------------------------------------------------------------------\n",
      "Intercept     -8.0313      5.560     -1.445      0.154     -19.145       3.082\n",
      "dia           30.7813      0.149    206.976      0.000      30.484      31.079\n",
      "==============================================================================\n"
     ]
    }
   ],
   "source": [
    "modelo2 = smf.quantreg('gasto_acum_reais ~ dia', gasto)\n",
    "resultado = modelo1.fit(q=0.5)\n",
    "print(resultado.summary())"
   ]
  },
  {
   "cell_type": "markdown",
   "id": "4da52124",
   "metadata": {},
   "source": [
    "<b>Equação:</b> gasto_acum = -8.0313 + 30.7813 * dia"
   ]
  },
  {
   "cell_type": "code",
   "execution_count": 32,
   "id": "e056f258",
   "metadata": {},
   "outputs": [
    {
     "name": "stdout",
     "output_type": "stream",
     "text": [
      "                         QuantReg Regression Results                          \n",
      "==============================================================================\n",
      "Dep. Variable:       gasto_acum_reais   Pseudo R-squared:               0.9624\n",
      "Model:                       QuantReg   Bandwidth:                       15.65\n",
      "Method:                 Least Squares   Sparsity:                        45.18\n",
      "Date:                Sat, 11 Mar 2023   No. Observations:                   64\n",
      "Time:                        09:37:05   Df Residuals:                       62\n",
      "                                        Df Model:                            1\n",
      "==============================================================================\n",
      "                 coef    std err          t      P>|t|      [0.025      0.975]\n",
      "------------------------------------------------------------------------------\n",
      "Intercept     13.4074      4.735      2.831      0.006       3.942      22.873\n",
      "dia           30.4815      0.124    246.731      0.000      30.235      30.728\n",
      "==============================================================================\n"
     ]
    }
   ],
   "source": [
    "modelo3 = smf.quantreg('gasto_acum_reais ~ dia', gasto)\n",
    "resultado = modelo3.fit(q=0.75)\n",
    "print(resultado.summary())"
   ]
  },
  {
   "cell_type": "markdown",
   "id": "d62e9780",
   "metadata": {},
   "source": [
    "<b>Equação:</b> gasto_acum = 13.4074 + 30.4815 * dia"
   ]
  },
  {
   "cell_type": "code",
   "execution_count": 34,
   "id": "bef8a746",
   "metadata": {},
   "outputs": [
    {
     "name": "stdout",
     "output_type": "stream",
     "text": [
      "                         QuantReg Regression Results                          \n",
      "==============================================================================\n",
      "Dep. Variable:       gasto_acum_reais   Pseudo R-squared:               0.9537\n",
      "Model:                       QuantReg   Bandwidth:                       27.08\n",
      "Method:                 Least Squares   Sparsity:                        94.22\n",
      "Date:                Sat, 11 Mar 2023   No. Observations:                   64\n",
      "Time:                        09:38:13   Df Residuals:                       62\n",
      "                                        Df Model:                            1\n",
      "==============================================================================\n",
      "                 coef    std err          t      P>|t|      [0.025      0.975]\n",
      "------------------------------------------------------------------------------\n",
      "Intercept     -5.4000     10.507     -0.514      0.609     -26.403      15.603\n",
      "dia           31.4000      0.276    113.865      0.000      30.849      31.951\n",
      "==============================================================================\n"
     ]
    }
   ],
   "source": [
    "modelo4 = smf.quantreg('gasto_acum_reais ~ dia', gasto)\n",
    "resultado = modelo4.fit(q=0.85)\n",
    "print(resultado.summary())"
   ]
  },
  {
   "cell_type": "markdown",
   "id": "d108a06d",
   "metadata": {},
   "source": [
    "<b>Equação:</b> gasto_acum = -5.4 + 31.4 * dia"
   ]
  },
  {
   "cell_type": "code",
   "execution_count": 35,
   "id": "ea6dbf47",
   "metadata": {},
   "outputs": [
    {
     "name": "stdout",
     "output_type": "stream",
     "text": [
      "                         QuantReg Regression Results                          \n",
      "==============================================================================\n",
      "Dep. Variable:       gasto_acum_reais   Pseudo R-squared:               0.9545\n",
      "Model:                       QuantReg   Bandwidth:                         nan\n",
      "Method:                 Least Squares   Sparsity:                          nan\n",
      "Date:                Sat, 11 Mar 2023   No. Observations:                   64\n",
      "Time:                        09:41:22   Df Residuals:                       62\n",
      "                                        Df Model:                            1\n",
      "==============================================================================\n",
      "                 coef    std err          t      P>|t|      [0.025      0.975]\n",
      "------------------------------------------------------------------------------\n",
      "Intercept     -6.4127        nan        nan        nan         nan         nan\n",
      "dia           32.4127        nan        nan        nan         nan         nan\n",
      "==============================================================================\n"
     ]
    }
   ],
   "source": [
    "modelo5 = smf.quantreg('gasto_acum_reais ~ dia', gasto)\n",
    "resultado = modelo5.fit(q=0.99999)\n",
    "print(resultado.summary())"
   ]
  },
  {
   "cell_type": "markdown",
   "id": "dd81481f",
   "metadata": {},
   "source": [
    "<b>Equação:</b> gasto_acum = -6.4127 + 32.4127 * dia"
   ]
  },
  {
   "cell_type": "markdown",
   "id": "6c64dd91",
   "metadata": {},
   "source": [
    "<b>Comparando com a regressão linear."
   ]
  },
  {
   "cell_type": "code",
   "execution_count": 36,
   "id": "f35373d5",
   "metadata": {},
   "outputs": [
    {
     "name": "stdout",
     "output_type": "stream",
     "text": [
      "                            OLS Regression Results                            \n",
      "==============================================================================\n",
      "Dep. Variable:       gasto_acum_reais   R-squared:                       0.998\n",
      "Model:                            OLS   Adj. R-squared:                  0.998\n",
      "Method:                 Least Squares   F-statistic:                 3.826e+04\n",
      "Date:                Sat, 11 Mar 2023   Prob (F-statistic):           3.03e-88\n",
      "Time:                        09:46:44   Log-Likelihood:                -292.04\n",
      "No. Observations:                  64   AIC:                             588.1\n",
      "Df Residuals:                      62   BIC:                             592.4\n",
      "Df Model:                           1                                         \n",
      "Covariance Type:            nonrobust                                         \n",
      "==============================================================================\n",
      "                 coef    std err          t      P>|t|      [0.025      0.975]\n",
      "------------------------------------------------------------------------------\n",
      "Intercept    -17.8542      5.963     -2.994      0.004     -29.773      -5.935\n",
      "dia           31.1984      0.159    195.602      0.000      30.880      31.517\n",
      "==============================================================================\n",
      "Omnibus:                       30.772   Durbin-Watson:                   0.438\n",
      "Prob(Omnibus):                  0.000   Jarque-Bera (JB):               62.390\n",
      "Skew:                           1.606   Prob(JB):                     2.83e-14\n",
      "Kurtosis:                       6.616   Cond. No.                         75.7\n",
      "==============================================================================\n",
      "\n",
      "Notes:\n",
      "[1] Standard Errors assume that the covariance matrix of the errors is correctly specified.\n"
     ]
    }
   ],
   "source": [
    "print(regressao_linear.summary())"
   ]
  },
  {
   "cell_type": "markdown",
   "id": "b699d463",
   "metadata": {},
   "source": [
    "<b>Equação:</b> gasto_acum = -17.8542 + 31.1984 * dia"
   ]
  },
  {
   "cell_type": "code",
   "execution_count": null,
   "id": "1832653f",
   "metadata": {},
   "outputs": [],
   "source": []
  }
 ],
 "metadata": {
  "kernelspec": {
   "display_name": "Python 3 (ipykernel)",
   "language": "python",
   "name": "python3"
  },
  "language_info": {
   "codemirror_mode": {
    "name": "ipython",
    "version": 3
   },
   "file_extension": ".py",
   "mimetype": "text/x-python",
   "name": "python",
   "nbconvert_exporter": "python",
   "pygments_lexer": "ipython3",
   "version": "3.8.10"
  }
 },
 "nbformat": 4,
 "nbformat_minor": 5
}
